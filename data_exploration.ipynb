{
 "cells": [
  {
   "cell_type": "code",
   "execution_count": 2,
   "metadata": {
    "ExecuteTime": {
     "end_time": "2024-04-19T13:27:54.501896200Z",
     "start_time": "2024-04-19T13:27:53.819202500Z"
    }
   },
   "outputs": [],
   "source": [
    "import pandas as pd\n",
    "import numpy as np\n",
    "import wfdb\n",
    "import ast"
   ]
  },
  {
   "cell_type": "code",
   "execution_count": 6,
   "metadata": {
    "ExecuteTime": {
     "end_time": "2024-04-19T14:11:22.711945Z",
     "start_time": "2024-04-19T14:06:23.474965800Z"
    }
   },
   "outputs": [],
   "source": [
    "def load_raw_data(df, sampling_rate, path):\n",
    "    if sampling_rate == 100:\n",
    "        data = [wfdb.rdsamp(path+f) for f in df.filename_lr]\n",
    "    else:\n",
    "        data = [wfdb.rdsamp(path+f) for f in df.filename_hr]\n",
    "    data = np.array([signal for signal, meta in data])\n",
    "    return data\n",
    "\n",
    "path = 'C:/Users/Delta.MSI/Downloads/ptb-xl-a-large-publicly-available-electrocardiography-dataset-1.0.3/ptb-xl-a-large-publicly-available-electrocardiography-dataset-1.0.3/'\n",
    "#path = 'ptb-xl-a-large-publicly-available-electrocardiography-dataset-1.0.3/'\n",
    "sampling_rate=100\n",
    "\n",
    "# load and convert annotation data\n",
    "Y = pd.read_csv(path+'ptbxl_database.csv', index_col='ecg_id')\n",
    "Y.scp_codes = Y.scp_codes.apply(lambda x: ast.literal_eval(x))\n",
    "\n",
    "# Load raw signal data\n",
    "X = load_raw_data(Y, sampling_rate, path)\n",
    "\n",
    "# Load scp_statements.csv for diagnostic aggregation\n",
    "agg_df = pd.read_csv(path+'scp_statements.csv', index_col=0)\n",
    "agg_df = agg_df[agg_df.diagnostic == 1]\n",
    "\n",
    "def aggregate_diagnostic(y_dic):\n",
    "    tmp = []\n",
    "    for key in y_dic.keys():\n",
    "        if key in agg_df.index:\n",
    "            tmp.append(agg_df.loc[key].diagnostic_class)\n",
    "    return list(set(tmp))\n",
    "\n",
    "# Apply diagnostic superclass\n",
    "Y['diagnostic_superclass'] = Y.scp_codes.apply(aggregate_diagnostic)"
   ]
  },
  {
   "cell_type": "code",
   "execution_count": 7,
   "metadata": {
    "ExecuteTime": {
     "end_time": "2024-04-19T14:13:21.992238100Z",
     "start_time": "2024-04-19T14:13:21.965220400Z"
    }
   },
   "outputs": [
    {
     "name": "stdout",
     "output_type": "stream",
     "text": [
      "(1000, 12)\n"
     ]
    }
   ],
   "source": [
    "print(X[0].shape)"
   ]
  },
  {
   "cell_type": "code",
   "execution_count": 8,
   "metadata": {
    "ExecuteTime": {
     "end_time": "2024-04-19T14:13:23.102582100Z",
     "start_time": "2024-04-19T14:13:22.939155700Z"
    }
   },
   "outputs": [
    {
     "data": {
      "text/plain": "        patient_id    age  sex  height  weight  nurse  site      device  \\\necg_id                                                                    \n1          15709.0   56.0    1     NaN    63.0    2.0   0.0   CS-12   E   \n2          13243.0   19.0    0     NaN    70.0    2.0   0.0   CS-12   E   \n3          20372.0   37.0    1     NaN    69.0    2.0   0.0   CS-12   E   \n4          17014.0   24.0    0     NaN    82.0    2.0   0.0   CS-12   E   \n5          17448.0   19.0    1     NaN    70.0    2.0   0.0   CS-12   E   \n...            ...    ...  ...     ...     ...    ...   ...         ...   \n21833      17180.0   67.0    1     NaN     NaN    1.0   2.0  AT-60    3   \n21834      20703.0  300.0    0     NaN     NaN    1.0   2.0  AT-60    3   \n21835      19311.0   59.0    1     NaN     NaN    1.0   2.0  AT-60    3   \n21836       8873.0   64.0    1     NaN     NaN    1.0   2.0  AT-60    3   \n21837      11744.0   68.0    0     NaN     NaN    1.0   2.0  AT-60    3   \n\n             recording_date  \\\necg_id                        \n1       1984-11-09 09:17:34   \n2       1984-11-14 12:55:37   \n3       1984-11-15 12:49:10   \n4       1984-11-15 13:44:57   \n5       1984-11-17 10:43:15   \n...                     ...   \n21833   2001-05-31 09:14:35   \n21834   2001-06-05 11:33:39   \n21835   2001-06-08 10:30:27   \n21836   2001-06-09 18:21:49   \n21837   2001-06-11 16:43:01   \n\n                                                   report  ...  \\\necg_id                                                     ...   \n1                  sinusrhythmus periphere niederspannung  ...   \n2                     sinusbradykardie sonst normales ekg  ...   \n3                              sinusrhythmus normales ekg  ...   \n4                              sinusrhythmus normales ekg  ...   \n5                              sinusrhythmus normales ekg  ...   \n...                                                   ...  ...   \n21833   ventrikulÄre extrasystole(n) sinustachykardie ...  ...   \n21834   sinusrhythmus lagetyp normal qrs(t) abnorm    ...  ...   \n21835   sinusrhythmus lagetyp normal t abnorm in anter...  ...   \n21836   supraventrikulÄre extrasystole(n) sinusrhythmu...  ...   \n21837   sinusrhythmus p-sinistrocardiale lagetyp norma...  ...   \n\n        baseline_drift static_noise burst_noise electrodes_problems  \\\necg_id                                                                \n1                  NaN    , I-V1,           NaN                 NaN   \n2                  NaN          NaN         NaN                 NaN   \n3                  NaN          NaN         NaN                 NaN   \n4         , II,III,AVF          NaN         NaN                 NaN   \n5        , III,AVR,AVF          NaN         NaN                 NaN   \n...                ...          ...         ...                 ...   \n21833              NaN   , alles,           NaN                 NaN   \n21834              NaN          NaN         NaN                 NaN   \n21835              NaN   , I-AVR,           NaN                 NaN   \n21836              NaN          NaN         NaN                 NaN   \n21837              NaN   , I-AVL,           NaN                 NaN   \n\n        extra_beats  pacemaker  strat_fold                filename_lr  \\\necg_id                                                                  \n1               NaN        NaN           3  records100/00000/00001_lr   \n2               NaN        NaN           2  records100/00000/00002_lr   \n3               NaN        NaN           5  records100/00000/00003_lr   \n4               NaN        NaN           3  records100/00000/00004_lr   \n5               NaN        NaN           4  records100/00000/00005_lr   \n...             ...        ...         ...                        ...   \n21833           1ES        NaN           7  records100/21000/21833_lr   \n21834           NaN        NaN           4  records100/21000/21834_lr   \n21835           NaN        NaN           2  records100/21000/21835_lr   \n21836          SVES        NaN           8  records100/21000/21836_lr   \n21837           NaN        NaN           9  records100/21000/21837_lr   \n\n                      filename_hr diagnostic_superclass  \necg_id                                                   \n1       records500/00000/00001_hr                [NORM]  \n2       records500/00000/00002_hr                [NORM]  \n3       records500/00000/00003_hr                [NORM]  \n4       records500/00000/00004_hr                [NORM]  \n5       records500/00000/00005_hr                [NORM]  \n...                           ...                   ...  \n21833   records500/21000/21833_hr                [STTC]  \n21834   records500/21000/21834_hr                [NORM]  \n21835   records500/21000/21835_hr                [STTC]  \n21836   records500/21000/21836_hr                [NORM]  \n21837   records500/21000/21837_hr                [NORM]  \n\n[21799 rows x 28 columns]",
      "text/html": "<div>\n<style scoped>\n    .dataframe tbody tr th:only-of-type {\n        vertical-align: middle;\n    }\n\n    .dataframe tbody tr th {\n        vertical-align: top;\n    }\n\n    .dataframe thead th {\n        text-align: right;\n    }\n</style>\n<table border=\"1\" class=\"dataframe\">\n  <thead>\n    <tr style=\"text-align: right;\">\n      <th></th>\n      <th>patient_id</th>\n      <th>age</th>\n      <th>sex</th>\n      <th>height</th>\n      <th>weight</th>\n      <th>nurse</th>\n      <th>site</th>\n      <th>device</th>\n      <th>recording_date</th>\n      <th>report</th>\n      <th>...</th>\n      <th>baseline_drift</th>\n      <th>static_noise</th>\n      <th>burst_noise</th>\n      <th>electrodes_problems</th>\n      <th>extra_beats</th>\n      <th>pacemaker</th>\n      <th>strat_fold</th>\n      <th>filename_lr</th>\n      <th>filename_hr</th>\n      <th>diagnostic_superclass</th>\n    </tr>\n    <tr>\n      <th>ecg_id</th>\n      <th></th>\n      <th></th>\n      <th></th>\n      <th></th>\n      <th></th>\n      <th></th>\n      <th></th>\n      <th></th>\n      <th></th>\n      <th></th>\n      <th></th>\n      <th></th>\n      <th></th>\n      <th></th>\n      <th></th>\n      <th></th>\n      <th></th>\n      <th></th>\n      <th></th>\n      <th></th>\n      <th></th>\n    </tr>\n  </thead>\n  <tbody>\n    <tr>\n      <th>1</th>\n      <td>15709.0</td>\n      <td>56.0</td>\n      <td>1</td>\n      <td>NaN</td>\n      <td>63.0</td>\n      <td>2.0</td>\n      <td>0.0</td>\n      <td>CS-12   E</td>\n      <td>1984-11-09 09:17:34</td>\n      <td>sinusrhythmus periphere niederspannung</td>\n      <td>...</td>\n      <td>NaN</td>\n      <td>, I-V1,</td>\n      <td>NaN</td>\n      <td>NaN</td>\n      <td>NaN</td>\n      <td>NaN</td>\n      <td>3</td>\n      <td>records100/00000/00001_lr</td>\n      <td>records500/00000/00001_hr</td>\n      <td>[NORM]</td>\n    </tr>\n    <tr>\n      <th>2</th>\n      <td>13243.0</td>\n      <td>19.0</td>\n      <td>0</td>\n      <td>NaN</td>\n      <td>70.0</td>\n      <td>2.0</td>\n      <td>0.0</td>\n      <td>CS-12   E</td>\n      <td>1984-11-14 12:55:37</td>\n      <td>sinusbradykardie sonst normales ekg</td>\n      <td>...</td>\n      <td>NaN</td>\n      <td>NaN</td>\n      <td>NaN</td>\n      <td>NaN</td>\n      <td>NaN</td>\n      <td>NaN</td>\n      <td>2</td>\n      <td>records100/00000/00002_lr</td>\n      <td>records500/00000/00002_hr</td>\n      <td>[NORM]</td>\n    </tr>\n    <tr>\n      <th>3</th>\n      <td>20372.0</td>\n      <td>37.0</td>\n      <td>1</td>\n      <td>NaN</td>\n      <td>69.0</td>\n      <td>2.0</td>\n      <td>0.0</td>\n      <td>CS-12   E</td>\n      <td>1984-11-15 12:49:10</td>\n      <td>sinusrhythmus normales ekg</td>\n      <td>...</td>\n      <td>NaN</td>\n      <td>NaN</td>\n      <td>NaN</td>\n      <td>NaN</td>\n      <td>NaN</td>\n      <td>NaN</td>\n      <td>5</td>\n      <td>records100/00000/00003_lr</td>\n      <td>records500/00000/00003_hr</td>\n      <td>[NORM]</td>\n    </tr>\n    <tr>\n      <th>4</th>\n      <td>17014.0</td>\n      <td>24.0</td>\n      <td>0</td>\n      <td>NaN</td>\n      <td>82.0</td>\n      <td>2.0</td>\n      <td>0.0</td>\n      <td>CS-12   E</td>\n      <td>1984-11-15 13:44:57</td>\n      <td>sinusrhythmus normales ekg</td>\n      <td>...</td>\n      <td>, II,III,AVF</td>\n      <td>NaN</td>\n      <td>NaN</td>\n      <td>NaN</td>\n      <td>NaN</td>\n      <td>NaN</td>\n      <td>3</td>\n      <td>records100/00000/00004_lr</td>\n      <td>records500/00000/00004_hr</td>\n      <td>[NORM]</td>\n    </tr>\n    <tr>\n      <th>5</th>\n      <td>17448.0</td>\n      <td>19.0</td>\n      <td>1</td>\n      <td>NaN</td>\n      <td>70.0</td>\n      <td>2.0</td>\n      <td>0.0</td>\n      <td>CS-12   E</td>\n      <td>1984-11-17 10:43:15</td>\n      <td>sinusrhythmus normales ekg</td>\n      <td>...</td>\n      <td>, III,AVR,AVF</td>\n      <td>NaN</td>\n      <td>NaN</td>\n      <td>NaN</td>\n      <td>NaN</td>\n      <td>NaN</td>\n      <td>4</td>\n      <td>records100/00000/00005_lr</td>\n      <td>records500/00000/00005_hr</td>\n      <td>[NORM]</td>\n    </tr>\n    <tr>\n      <th>...</th>\n      <td>...</td>\n      <td>...</td>\n      <td>...</td>\n      <td>...</td>\n      <td>...</td>\n      <td>...</td>\n      <td>...</td>\n      <td>...</td>\n      <td>...</td>\n      <td>...</td>\n      <td>...</td>\n      <td>...</td>\n      <td>...</td>\n      <td>...</td>\n      <td>...</td>\n      <td>...</td>\n      <td>...</td>\n      <td>...</td>\n      <td>...</td>\n      <td>...</td>\n      <td>...</td>\n    </tr>\n    <tr>\n      <th>21833</th>\n      <td>17180.0</td>\n      <td>67.0</td>\n      <td>1</td>\n      <td>NaN</td>\n      <td>NaN</td>\n      <td>1.0</td>\n      <td>2.0</td>\n      <td>AT-60    3</td>\n      <td>2001-05-31 09:14:35</td>\n      <td>ventrikulÄre extrasystole(n) sinustachykardie ...</td>\n      <td>...</td>\n      <td>NaN</td>\n      <td>, alles,</td>\n      <td>NaN</td>\n      <td>NaN</td>\n      <td>1ES</td>\n      <td>NaN</td>\n      <td>7</td>\n      <td>records100/21000/21833_lr</td>\n      <td>records500/21000/21833_hr</td>\n      <td>[STTC]</td>\n    </tr>\n    <tr>\n      <th>21834</th>\n      <td>20703.0</td>\n      <td>300.0</td>\n      <td>0</td>\n      <td>NaN</td>\n      <td>NaN</td>\n      <td>1.0</td>\n      <td>2.0</td>\n      <td>AT-60    3</td>\n      <td>2001-06-05 11:33:39</td>\n      <td>sinusrhythmus lagetyp normal qrs(t) abnorm    ...</td>\n      <td>...</td>\n      <td>NaN</td>\n      <td>NaN</td>\n      <td>NaN</td>\n      <td>NaN</td>\n      <td>NaN</td>\n      <td>NaN</td>\n      <td>4</td>\n      <td>records100/21000/21834_lr</td>\n      <td>records500/21000/21834_hr</td>\n      <td>[NORM]</td>\n    </tr>\n    <tr>\n      <th>21835</th>\n      <td>19311.0</td>\n      <td>59.0</td>\n      <td>1</td>\n      <td>NaN</td>\n      <td>NaN</td>\n      <td>1.0</td>\n      <td>2.0</td>\n      <td>AT-60    3</td>\n      <td>2001-06-08 10:30:27</td>\n      <td>sinusrhythmus lagetyp normal t abnorm in anter...</td>\n      <td>...</td>\n      <td>NaN</td>\n      <td>, I-AVR,</td>\n      <td>NaN</td>\n      <td>NaN</td>\n      <td>NaN</td>\n      <td>NaN</td>\n      <td>2</td>\n      <td>records100/21000/21835_lr</td>\n      <td>records500/21000/21835_hr</td>\n      <td>[STTC]</td>\n    </tr>\n    <tr>\n      <th>21836</th>\n      <td>8873.0</td>\n      <td>64.0</td>\n      <td>1</td>\n      <td>NaN</td>\n      <td>NaN</td>\n      <td>1.0</td>\n      <td>2.0</td>\n      <td>AT-60    3</td>\n      <td>2001-06-09 18:21:49</td>\n      <td>supraventrikulÄre extrasystole(n) sinusrhythmu...</td>\n      <td>...</td>\n      <td>NaN</td>\n      <td>NaN</td>\n      <td>NaN</td>\n      <td>NaN</td>\n      <td>SVES</td>\n      <td>NaN</td>\n      <td>8</td>\n      <td>records100/21000/21836_lr</td>\n      <td>records500/21000/21836_hr</td>\n      <td>[NORM]</td>\n    </tr>\n    <tr>\n      <th>21837</th>\n      <td>11744.0</td>\n      <td>68.0</td>\n      <td>0</td>\n      <td>NaN</td>\n      <td>NaN</td>\n      <td>1.0</td>\n      <td>2.0</td>\n      <td>AT-60    3</td>\n      <td>2001-06-11 16:43:01</td>\n      <td>sinusrhythmus p-sinistrocardiale lagetyp norma...</td>\n      <td>...</td>\n      <td>NaN</td>\n      <td>, I-AVL,</td>\n      <td>NaN</td>\n      <td>NaN</td>\n      <td>NaN</td>\n      <td>NaN</td>\n      <td>9</td>\n      <td>records100/21000/21837_lr</td>\n      <td>records500/21000/21837_hr</td>\n      <td>[NORM]</td>\n    </tr>\n  </tbody>\n</table>\n<p>21799 rows × 28 columns</p>\n</div>"
     },
     "execution_count": 8,
     "metadata": {},
     "output_type": "execute_result"
    }
   ],
   "source": [
    "Y"
   ]
  },
  {
   "cell_type": "code",
   "outputs": [],
   "source": [],
   "metadata": {
    "collapsed": false
   }
  }
 ],
 "metadata": {
  "kernelspec": {
   "display_name": "venv",
   "language": "python",
   "name": "python3"
  },
  "language_info": {
   "codemirror_mode": {
    "name": "ipython",
    "version": 3
   },
   "file_extension": ".py",
   "mimetype": "text/x-python",
   "name": "python",
   "nbconvert_exporter": "python",
   "pygments_lexer": "ipython3",
   "version": "3.12.2"
  }
 },
 "nbformat": 4,
 "nbformat_minor": 2
}
